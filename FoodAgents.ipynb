{
 "cells": [
  {
   "cell_type": "markdown",
   "metadata": {},
   "source": [
    "# Reto AD2023"
   ]
  },
  {
   "cell_type": "markdown",
   "metadata": {},
   "source": [
    "## Descripción \n",
    "\n",
    "El reto consiste en desarrollar un sistema multiagente para resolver una tarea cooperativa en un entorno 20x20 dinámicamente cambiante. El entorno del sistema multiagente es un mundo similar a una cuadrícula donde los agentes pueden moverse de su posición a una celda vecina si ya no hay ningún agente en esa ranura. En este entorno, la comida puede aparecer en cualquier celda menos en una. La celda especial, en la que no puede aparecer comida, se considera un depósito donde los agentes pueden traer y almacenar su comida. Un agente puede sólo puede saber si hay comida en una celda, si está visitándola. Inicialmente, la comida se coloca en algunas celdas aleatorias. Durante la ejecución, puede aparecer comida adicional dinámicamente en celdas seleccionadas al azar, excepto en la celda del depósito. Los agentes pueden tener/desempeñar diferentes roles (como explorador o recolector), comunicarse y cooperar para encontrar y recolectar alimentos de manera eficiente y efectiva"
   ]
  },
  {
   "cell_type": "markdown",
   "metadata": {},
   "source": [
    "## Puntos a considerar\n",
    "\n",
    "- Inicialmente no hay comida en el entorno.\n",
    "- La semilla para generación de números aleatorios será 12345.\n",
    "- El depósito será generado al azar.\n",
    "- Cada 5 segundos se colocará una unidad de comida en algunas celdas.\n",
    "- La cantidad de celdas en las que colocará una unidad comida será definida al azar (entre 2 y 5 celdas).\n",
    "- Se colocará un total de 47 unidades de comida.\n",
    "- Número total de pasos (steps): 1500.\n",
    "- La cantidad total de alimentos que se puede almacenar en el depósito es infinito.\n",
    "- Hay un total de 5 agentes.\n",
    "- Cuando una unidad de comida es encontrado por un explorador o por un agente que ya lleva la comida, la posición de la comida se marca y se comunica a otros agentes.\n",
    "- Cuando un recolector encuentra una unidad comida, lo carga (gráficamente deberá cambia su forma para indicar que lleva comida). La capacidad máxima de comida que puede llevar un agentes es UNA unidad de comida.\n",
    "- Inicialmente, los agentes no son informados sobre la posición del depósito, pero una vez que lo encuentran, todos saben dónde está."
   ]
  },
  {
   "cell_type": "markdown",
   "metadata": {},
   "source": [
    "____"
   ]
  },
  {
   "cell_type": "markdown",
   "metadata": {},
   "source": [
    "### Imports"
   ]
  },
  {
   "cell_type": "code",
   "execution_count": null,
   "metadata": {},
   "outputs": [],
   "source": [
    "from mesa import Agent, Model\n",
    "from mesa.time import SimultaneousActivation\n",
    "from mesa.space import SingleGrid\n",
    "from mesa.datacollection import DataCollector\n",
    "\n",
    "%matplotlib inline\n",
    "import matplotlib\n",
    "import matplotlib.pyplot as plt \n",
    "from matplotlib.animation import FuncAnimation\n",
    "import matplotlib.animation as animation\n",
    "plt.rcParams[\"animation.html\"] = \"jshtml\"\n",
    "matplotlib.rcParams['animation.embed_limit'] = 2**128\n",
    "\n",
    "import numpy as np\n",
    "import pandas as pd\n",
    "import random "
   ]
  },
  {
   "cell_type": "code",
   "execution_count": null,
   "metadata": {},
   "outputs": [],
   "source": [
    "SEED = 12345\n",
    "MAX_STEPS = 1500\n",
    "MAX_AGENTS = 5\n",
    "MAX_FOOD = 47"
   ]
  },
  {
   "cell_type": "markdown",
   "metadata": {},
   "source": [
    "### Agent(s)"
   ]
  },
  {
   "cell_type": "code",
   "execution_count": null,
   "metadata": {},
   "outputs": [],
   "source": [
    "# CAMBIAR QUE PUEDA SER MAS DE UNA CELDA QUE TENGA COMIDA\n",
    "class RobotAgent(Agent):\n",
    "    def __init__(self, unique_id, model):\n",
    "        super().__init__(unique_id, model)\n",
    "        # Attribute to set if the agent is carrying food or not\n",
    "        self.is_carrying = False\n",
    "        # Attribute to store the position of the deposit\n",
    "        self.deposit_cell = None\n",
    "        # Attribute to store the position of where the food is\n",
    "        self.food_cell = None\n",
    "    \n",
    "    def step(self):\n",
    "        # Check if a cell with food has been found\n",
    "        self.get_food_cell()\n",
    "\n",
    "        # Obtain the current position of the cell\n",
    "        x, y = self.pos\n",
    "\n",
    "        # Variable to store the food of the cell\n",
    "        food_in_cell = self.model.get_food_in_cell(x, y)\n",
    "\n",
    "        # If the current cell has food and the model doesn't have set a cell with food, then set the current cell and pick food\n",
    "        if food_in_cell > 0 and self.model.get_food_cell() == None:\n",
    "            self.set_food_cell(x, y)\n",
    "            # Pick the food of the current cell\n",
    "            self.pick_food(x, y)\n",
    "\n",
    "        # Else, if the current cell has food and the model has a cell with food set, then pick food\n",
    "        elif food_in_cell > 0:\n",
    "            self.pick_food(x, y)\n",
    "            # If the cell where the food was has now become empty, then the food cell has no more food and it must be reset\n",
    "            if self.model.get_food_in_cell(x, y) == 0:\n",
    "                self.reset_food_cell()\n",
    "        \n",
    "        self.move()\n",
    "\n",
    "    # Move the agent\n",
    "    def move(self):\n",
    "        # If a cell with food has been found\n",
    "        if self.food_cell != None:\n",
    "            if self.is_carrying and self.deposit_cell != None:\n",
    "                pass\n",
    "            # If the deposit hasn't been found, then move random\n",
    "            elif self.is_carrying:\n",
    "                # Move to a cell which doesn't have an agent\n",
    "                possible_moves = [cell for cell in self.model.grid.get_neighborhood(self.pos, moore=True, include_center=False) if self.model.grid.is_cell_empty(cell)]\n",
    "\n",
    "                # If there are possible moves then move to a random cell\n",
    "                if possible_moves:\n",
    "                    new_position = random.choice(possible_moves)\n",
    "                    self.model.grid.move_agent(self, new_position)\n",
    "            # If the agent is not carrying then move to the food cell\n",
    "            else: \n",
    "                # Implement logic to move to the cell that has food\n",
    "                pass\n",
    "            \n",
    "        # If a cell with food hasn't been found, then move random\n",
    "        else:\n",
    "            # Move to a cell which doesn't have an agent\n",
    "            possible_moves = [cell for cell in self.model.grid.get_neighborhood(self.pos, moore=True, include_center=False) if self.model.grid.is_cell_empty(cell)]\n",
    "\n",
    "            # If there are possible moves then move to a random cell\n",
    "            if possible_moves:\n",
    "                new_position = random.choice(possible_moves)\n",
    "                self.model.grid.move_agent(self, new_position)\n",
    "\n",
    "    # Method to check if the agent is carrying, if not then pick food from the cell\n",
    "    def pick_food():\n",
    "        pass\n",
    "\n",
    "     # Method to check if the agent is carrying and it has arrived at the deposit, then place the food in the deposit\n",
    "    def place_food():\n",
    "        pass\n",
    "\n",
    "    # Method to check if a cell with food has been found\n",
    "    def get_food_cell(self):\n",
    "        # If a cell with food has been found, then set the attribute of the agent with the position of the cell with food\n",
    "        if self.model.get_food_cell() != None:\n",
    "            self.food_cell = self.model.get_food_cell()\n",
    "    \n",
    "    # Method to set the cell with food\n",
    "    def set_food_cell(self, x, y):\n",
    "        self.model.set_food_cell(x, y)\n",
    "        self.food_cell = self.model.get_food_cell()\n",
    "\n",
    "    # Method to reset the cell with food\n",
    "    def reset_food_cell(self):\n",
    "        self.model.set_food_cell(None, None)\n",
    "        self.food_cell = None"
   ]
  },
  {
   "cell_type": "markdown",
   "metadata": {},
   "source": [
    "### Model"
   ]
  },
  {
   "cell_type": "code",
   "execution_count": null,
   "metadata": {},
   "outputs": [],
   "source": [
    "class FoodModel(Model):\n",
    "    def __init__(self, width, height, num_agents, max_food):\n",
    "        self.random.seed(SEED)\n",
    "        self.num_agents = num_agents\n",
    "        self.max_food = max_food\n",
    "        self.grid = SingleGrid(width, height, torus=True)\n",
    "        self.DataCollector = DataCollector(\n",
    "            model_reporters={\"Food\": \"food\"},\n",
    "            agent_reporters={\"Position\": \"pos\"}\n",
    "        )\n",
    "        self.schedule = SimultaneousActivation(self)\n",
    "        self.deposit_cell = (random.randint(0, GRID_SIZE-1), random.randint(0, GRID_SIZE-1))\n",
    "        self.food_generated = 0\n",
    "\n",
    "        def generate_agents(self, num_agents):\n",
    "            for i in range(num_agents):\n",
    "                agent = \n"
   ]
  }
 ],
 "metadata": {
  "language_info": {
   "name": "python"
  },
  "orig_nbformat": 4
 },
 "nbformat": 4,
 "nbformat_minor": 2
}
